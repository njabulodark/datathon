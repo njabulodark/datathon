{
  "cells": [
    {
      "cell_type": "code",
      "execution_count": 31,
      "metadata": {
        "id": "BjcFZKiStr_7"
      },
      "outputs": [],
      "source": [
        "import pandas as pd\n",
        "import re\n",
        "from textblob import TextBlob"
      ]
    },
    {
      "cell_type": "code",
      "execution_count": 32,
      "metadata": {
        "id": "f6UvssBzt0ij"
      },
      "outputs": [
        {
          "data": {
            "text/html": [
              "<div>\n",
              "<style scoped>\n",
              "    .dataframe tbody tr th:only-of-type {\n",
              "        vertical-align: middle;\n",
              "    }\n",
              "\n",
              "    .dataframe tbody tr th {\n",
              "        vertical-align: top;\n",
              "    }\n",
              "\n",
              "    .dataframe thead th {\n",
              "        text-align: right;\n",
              "    }\n",
              "</style>\n",
              "<table border=\"1\" class=\"dataframe\">\n",
              "  <thead>\n",
              "    <tr style=\"text-align: right;\">\n",
              "      <th></th>\n",
              "      <th>Datetime</th>\n",
              "      <th>Text</th>\n",
              "      <th>Username</th>\n",
              "      <th>Retweets</th>\n",
              "      <th>Location</th>\n",
              "      <th>Hashtags</th>\n",
              "    </tr>\n",
              "  </thead>\n",
              "  <tbody>\n",
              "    <tr>\n",
              "      <th>0</th>\n",
              "      <td>17:12:31 23:59:14</td>\n",
              "      <td>@DoctorWho_BBCA #NewYearsResolutions May #Doct...</td>\n",
              "      <td>AlbertFiorino</td>\n",
              "      <td>1</td>\n",
              "      <td>Toronto, Canada</td>\n",
              "      <td>['NewYearsResolutions', 'DoctorWho', 'regenera...</td>\n",
              "    </tr>\n",
              "    <tr>\n",
              "      <th>1</th>\n",
              "      <td>17:12:31 23:53:18</td>\n",
              "      <td>2018 will be remembered has the year when EVER...</td>\n",
              "      <td>lifemechanik</td>\n",
              "      <td>0</td>\n",
              "      <td>NaN</td>\n",
              "      <td>['bitcoin', 'Extraterrestrial', 'corruption', ...</td>\n",
              "    </tr>\n",
              "    <tr>\n",
              "      <th>2</th>\n",
              "      <td>17:12:31 23:49:49</td>\n",
              "      <td>#ArrestTomCotton\\n#ArrestBenjaminNetanyahu\\n#c...</td>\n",
              "      <td>Jory_Nal</td>\n",
              "      <td>0</td>\n",
              "      <td>Upper Canada</td>\n",
              "      <td>['ArrestTomCotton', 'ArrestBenjaminNetanyahu',...</td>\n",
              "    </tr>\n",
              "    <tr>\n",
              "      <th>3</th>\n",
              "      <td>17:12:31 23:40:44</td>\n",
              "      <td>@thehill I say protect Americans from #Corrupt...</td>\n",
              "      <td>KeltonPrisbrey</td>\n",
              "      <td>0</td>\n",
              "      <td>St. George, Utah</td>\n",
              "      <td>['Corruption', 'Courts', 'politicalprisoners']</td>\n",
              "    </tr>\n",
              "    <tr>\n",
              "      <th>4</th>\n",
              "      <td>17:12:31 23:33:25</td>\n",
              "      <td>Good luck for 2018 to all the dedicated folk d...</td>\n",
              "      <td>BillHarvey6</td>\n",
              "      <td>4</td>\n",
              "      <td>Hobart, Tasmania</td>\n",
              "      <td>['climatechange', 'plasticpollution', 'extinct...</td>\n",
              "    </tr>\n",
              "    <tr>\n",
              "      <th>...</th>\n",
              "      <td>...</td>\n",
              "      <td>...</td>\n",
              "      <td>...</td>\n",
              "      <td>...</td>\n",
              "      <td>...</td>\n",
              "      <td>...</td>\n",
              "    </tr>\n",
              "    <tr>\n",
              "      <th>235631</th>\n",
              "      <td>17:07:01 12:40:14</td>\n",
              "      <td>\"We don't want #ANC to be destroyed by the wea...</td>\n",
              "      <td>MYANC</td>\n",
              "      <td>8</td>\n",
              "      <td>South Africa</td>\n",
              "      <td>['ANC', 'ANCNPC']</td>\n",
              "    </tr>\n",
              "    <tr>\n",
              "      <th>235632</th>\n",
              "      <td>17:07:01 12:35:35</td>\n",
              "      <td>@News24 Quite simple uncle Gwede, you are all ...</td>\n",
              "      <td>hills007</td>\n",
              "      <td>0</td>\n",
              "      <td>Cape Town, South Africa</td>\n",
              "      <td>['butternut', 'ANC']</td>\n",
              "    </tr>\n",
              "    <tr>\n",
              "      <th>235633</th>\n",
              "      <td>17:07:01 12:25:19</td>\n",
              "      <td>@ajnarsee #ImizamoYethu another example of fai...</td>\n",
              "      <td>siphokid29</td>\n",
              "      <td>0</td>\n",
              "      <td>Botshabelo Republic of SA.</td>\n",
              "      <td>['ImizamoYethu', 'ANC', 'ANCNCP', 'ANCPolicyCo...</td>\n",
              "    </tr>\n",
              "    <tr>\n",
              "      <th>235634</th>\n",
              "      <td>17:07:01 12:21:05</td>\n",
              "      <td>@aCzwe @HermanMashaba @isizulu @MYANC Right no...</td>\n",
              "      <td>ESNK</td>\n",
              "      <td>4</td>\n",
              "      <td>3rd Rock From The Sun</td>\n",
              "      <td>['ANC']</td>\n",
              "    </tr>\n",
              "    <tr>\n",
              "      <th>235635</th>\n",
              "      <td>17:07:01 12:20:07</td>\n",
              "      <td>#InfoTricolor \"Clase trabajadora marchará este...</td>\n",
              "      <td>Barrio_Tricolor</td>\n",
              "      <td>5</td>\n",
              "      <td>Venezuela</td>\n",
              "      <td>['InfoTricolor', 'ANC', 'VenezuelaTricolor', '...</td>\n",
              "    </tr>\n",
              "  </tbody>\n",
              "</table>\n",
              "<p>235636 rows × 6 columns</p>\n",
              "</div>"
            ],
            "text/plain": [
              "                 Datetime                                               Text  \\\n",
              "0       17:12:31 23:59:14  @DoctorWho_BBCA #NewYearsResolutions May #Doct...   \n",
              "1       17:12:31 23:53:18  2018 will be remembered has the year when EVER...   \n",
              "2       17:12:31 23:49:49  #ArrestTomCotton\\n#ArrestBenjaminNetanyahu\\n#c...   \n",
              "3       17:12:31 23:40:44  @thehill I say protect Americans from #Corrupt...   \n",
              "4       17:12:31 23:33:25  Good luck for 2018 to all the dedicated folk d...   \n",
              "...                   ...                                                ...   \n",
              "235631  17:07:01 12:40:14  \"We don't want #ANC to be destroyed by the wea...   \n",
              "235632  17:07:01 12:35:35  @News24 Quite simple uncle Gwede, you are all ...   \n",
              "235633  17:07:01 12:25:19  @ajnarsee #ImizamoYethu another example of fai...   \n",
              "235634  17:07:01 12:21:05  @aCzwe @HermanMashaba @isizulu @MYANC Right no...   \n",
              "235635  17:07:01 12:20:07  #InfoTricolor \"Clase trabajadora marchará este...   \n",
              "\n",
              "               Username  Retweets                    Location  \\\n",
              "0         AlbertFiorino         1             Toronto, Canada   \n",
              "1          lifemechanik         0                         NaN   \n",
              "2              Jory_Nal         0                Upper Canada   \n",
              "3        KeltonPrisbrey         0           St. George, Utah    \n",
              "4           BillHarvey6         4            Hobart, Tasmania   \n",
              "...                 ...       ...                         ...   \n",
              "235631            MYANC         8                South Africa   \n",
              "235632         hills007         0     Cape Town, South Africa   \n",
              "235633       siphokid29         0  Botshabelo Republic of SA.   \n",
              "235634             ESNK         4       3rd Rock From The Sun   \n",
              "235635  Barrio_Tricolor         5                   Venezuela   \n",
              "\n",
              "                                                 Hashtags  \n",
              "0       ['NewYearsResolutions', 'DoctorWho', 'regenera...  \n",
              "1       ['bitcoin', 'Extraterrestrial', 'corruption', ...  \n",
              "2       ['ArrestTomCotton', 'ArrestBenjaminNetanyahu',...  \n",
              "3          ['Corruption', 'Courts', 'politicalprisoners']  \n",
              "4       ['climatechange', 'plasticpollution', 'extinct...  \n",
              "...                                                   ...  \n",
              "235631                                  ['ANC', 'ANCNPC']  \n",
              "235632                               ['butternut', 'ANC']  \n",
              "235633  ['ImizamoYethu', 'ANC', 'ANCNCP', 'ANCPolicyCo...  \n",
              "235634                                            ['ANC']  \n",
              "235635  ['InfoTricolor', 'ANC', 'VenezuelaTricolor', '...  \n",
              "\n",
              "[235636 rows x 6 columns]"
            ]
          },
          "execution_count": 32,
          "metadata": {},
          "output_type": "execute_result"
        }
      ],
      "source": [
        "df = pd.read_csv(r\"C:\\datathon\\dataset on twit corruption\\non clean\\2017data235636.csv\")\n",
        "df"
      ]
    },
    {
      "cell_type": "code",
      "execution_count": 33,
      "metadata": {
        "id": "tFnTYjv7u0J_"
      },
      "outputs": [],
      "source": [
        "\n",
        "def clean_tweet(tweet):\n",
        "    tweet = tweet.lower()\n",
        "    tweet = re.sub(r'@[A-Za-z0-9]+', '', tweet) #Removing @mentions\n",
        "    tweet = re.sub(r'#', '', tweet) #Removing the '#' symbol\n",
        "    tweet = re.sub(r'RT[\\s]+', '', tweet) #Removing RT\n",
        "    tweet = re.sub(r'https?:\\/\\/\\S+', '', tweet) #Removing the hyper link\n",
        "    tweet = re.sub(r'[^\\x00-\\x7F]+',' ', tweet) #remove emojis\n",
        "    return tweet\n",
        "\n",
        "df['Text'] = df['Text'].apply(clean_tweet)\n"
      ]
    },
    {
      "cell_type": "code",
      "execution_count": 34,
      "metadata": {
        "colab": {
          "base_uri": "https://localhost:8080/"
        },
        "id": "tEIWP3XsvWLI",
        "outputId": "04dfb884-2395-4947-a7e8-41f26ecff489"
      },
      "outputs": [
        {
          "name": "stderr",
          "output_type": "stream",
          "text": [
            "C:\\Users\\User\\AppData\\Local\\Temp\\ipykernel_13428\\3186663630.py:2: SettingWithCopyWarning: \n",
            "A value is trying to be set on a copy of a slice from a DataFrame\n",
            "\n",
            "See the caveats in the documentation: https://pandas.pydata.org/pandas-docs/stable/user_guide/indexing.html#returning-a-view-versus-a-copy\n",
            "  df2.dropna(inplace=True)\n"
          ]
        }
      ],
      "source": [
        "df2 = df[['Text', 'Datetime', 'Location', 'Hashtags']]\n",
        "df2.dropna(inplace=True)\n",
        "df2.reset_index(drop=True, inplace=True)\n"
      ]
    },
    {
      "cell_type": "code",
      "execution_count": 35,
      "metadata": {
        "colab": {
          "base_uri": "https://localhost:8080/"
        },
        "id": "V29goovkvZ5A",
        "outputId": "38d17f93-1ec4-4a71-f0b3-a025f62d6963"
      },
      "outputs": [
        {
          "name": "stderr",
          "output_type": "stream",
          "text": [
            "C:\\Users\\User\\AppData\\Local\\Temp\\ipykernel_13428\\290049082.py:24: SettingWithCopyWarning: \n",
            "A value is trying to be set on a copy of a slice from a DataFrame\n",
            "\n",
            "See the caveats in the documentation: https://pandas.pydata.org/pandas-docs/stable/user_guide/indexing.html#returning-a-view-versus-a-copy\n",
            "  df2[\"Location\"][index] = None\n",
            "C:\\Users\\User\\AppData\\Local\\Temp\\ipykernel_13428\\290049082.py:21: SettingWithCopyWarning: \n",
            "A value is trying to be set on a copy of a slice from a DataFrame\n",
            "\n",
            "See the caveats in the documentation: https://pandas.pydata.org/pandas-docs/stable/user_guide/indexing.html#returning-a-view-versus-a-copy\n",
            "  df2[\"Location\"][index] = real\n"
          ]
        },
        {
          "ename": "KeyboardInterrupt",
          "evalue": "",
          "output_type": "error",
          "traceback": [
            "\u001b[1;31m---------------------------------------------------------------------------\u001b[0m",
            "\u001b[1;31mKeyboardInterrupt\u001b[0m                         Traceback (most recent call last)",
            "\u001b[1;32m~\\AppData\\Local\\Temp\\ipykernel_13428\\290049082.py\u001b[0m in \u001b[0;36m<module>\u001b[1;34m\u001b[0m\n\u001b[0;32m     22\u001b[0m             \u001b[1;32mbreak\u001b[0m\u001b[1;33m\u001b[0m\u001b[1;33m\u001b[0m\u001b[0m\n\u001b[0;32m     23\u001b[0m         \u001b[1;32melse\u001b[0m\u001b[1;33m:\u001b[0m\u001b[1;33m\u001b[0m\u001b[1;33m\u001b[0m\u001b[0m\n\u001b[1;32m---> 24\u001b[1;33m             \u001b[0mdf2\u001b[0m\u001b[1;33m[\u001b[0m\u001b[1;34m\"Location\"\u001b[0m\u001b[1;33m]\u001b[0m\u001b[1;33m[\u001b[0m\u001b[0mindex\u001b[0m\u001b[1;33m]\u001b[0m \u001b[1;33m=\u001b[0m \u001b[1;32mNone\u001b[0m\u001b[1;33m\u001b[0m\u001b[1;33m\u001b[0m\u001b[0m\n\u001b[0m",
            "\u001b[1;32mc:\\Users\\User\\anaconda3\\lib\\site-packages\\pandas\\core\\series.py\u001b[0m in \u001b[0;36m__setitem__\u001b[1;34m(self, key, value)\u001b[0m\n\u001b[0;32m   1141\u001b[0m \u001b[1;33m\u001b[0m\u001b[0m\n\u001b[0;32m   1142\u001b[0m         \u001b[1;32mif\u001b[0m \u001b[0mcacher_needs_updating\u001b[0m\u001b[1;33m:\u001b[0m\u001b[1;33m\u001b[0m\u001b[1;33m\u001b[0m\u001b[0m\n\u001b[1;32m-> 1143\u001b[1;33m             \u001b[0mself\u001b[0m\u001b[1;33m.\u001b[0m\u001b[0m_maybe_update_cacher\u001b[0m\u001b[1;33m(\u001b[0m\u001b[0minplace\u001b[0m\u001b[1;33m=\u001b[0m\u001b[1;32mTrue\u001b[0m\u001b[1;33m)\u001b[0m\u001b[1;33m\u001b[0m\u001b[1;33m\u001b[0m\u001b[0m\n\u001b[0m\u001b[0;32m   1144\u001b[0m \u001b[1;33m\u001b[0m\u001b[0m\n\u001b[0;32m   1145\u001b[0m     \u001b[1;32mdef\u001b[0m \u001b[0m_set_with_engine\u001b[0m\u001b[1;33m(\u001b[0m\u001b[0mself\u001b[0m\u001b[1;33m,\u001b[0m \u001b[0mkey\u001b[0m\u001b[1;33m,\u001b[0m \u001b[0mvalue\u001b[0m\u001b[1;33m)\u001b[0m \u001b[1;33m->\u001b[0m \u001b[1;32mNone\u001b[0m\u001b[1;33m:\u001b[0m\u001b[1;33m\u001b[0m\u001b[1;33m\u001b[0m\u001b[0m\n",
            "\u001b[1;32mc:\\Users\\User\\anaconda3\\lib\\site-packages\\pandas\\core\\series.py\u001b[0m in \u001b[0;36m_maybe_update_cacher\u001b[1;34m(self, clear, verify_is_copy, inplace)\u001b[0m\n\u001b[0;32m   1277\u001b[0m                 \u001b[1;31m# to ensure column still in dataframe\u001b[0m\u001b[1;33m\u001b[0m\u001b[1;33m\u001b[0m\u001b[0m\n\u001b[0;32m   1278\u001b[0m                 \u001b[1;31m# otherwise, either self or ref has swapped in new arrays\u001b[0m\u001b[1;33m\u001b[0m\u001b[1;33m\u001b[0m\u001b[0m\n\u001b[1;32m-> 1279\u001b[1;33m                 \u001b[0mref\u001b[0m\u001b[1;33m.\u001b[0m\u001b[0m_maybe_cache_changed\u001b[0m\u001b[1;33m(\u001b[0m\u001b[0mcacher\u001b[0m\u001b[1;33m[\u001b[0m\u001b[1;36m0\u001b[0m\u001b[1;33m]\u001b[0m\u001b[1;33m,\u001b[0m \u001b[0mself\u001b[0m\u001b[1;33m,\u001b[0m \u001b[0minplace\u001b[0m\u001b[1;33m=\u001b[0m\u001b[0minplace\u001b[0m\u001b[1;33m)\u001b[0m\u001b[1;33m\u001b[0m\u001b[1;33m\u001b[0m\u001b[0m\n\u001b[0m\u001b[0;32m   1280\u001b[0m             \u001b[1;32melse\u001b[0m\u001b[1;33m:\u001b[0m\u001b[1;33m\u001b[0m\u001b[1;33m\u001b[0m\u001b[0m\n\u001b[0;32m   1281\u001b[0m                 \u001b[1;31m# GH#33675 we have swapped in a new array, so parent\u001b[0m\u001b[1;33m\u001b[0m\u001b[1;33m\u001b[0m\u001b[0m\n",
            "\u001b[1;32mc:\\Users\\User\\anaconda3\\lib\\site-packages\\pandas\\core\\frame.py\u001b[0m in \u001b[0;36m_maybe_cache_changed\u001b[1;34m(self, item, value, inplace)\u001b[0m\n\u001b[0;32m   3954\u001b[0m             \u001b[1;32mreturn\u001b[0m\u001b[1;33m\u001b[0m\u001b[1;33m\u001b[0m\u001b[0m\n\u001b[0;32m   3955\u001b[0m \u001b[1;33m\u001b[0m\u001b[0m\n\u001b[1;32m-> 3956\u001b[1;33m         \u001b[0mself\u001b[0m\u001b[1;33m.\u001b[0m\u001b[0m_mgr\u001b[0m\u001b[1;33m.\u001b[0m\u001b[0miset\u001b[0m\u001b[1;33m(\u001b[0m\u001b[0mloc\u001b[0m\u001b[1;33m,\u001b[0m \u001b[0marraylike\u001b[0m\u001b[1;33m,\u001b[0m \u001b[0minplace\u001b[0m\u001b[1;33m=\u001b[0m\u001b[0minplace\u001b[0m\u001b[1;33m)\u001b[0m\u001b[1;33m\u001b[0m\u001b[1;33m\u001b[0m\u001b[0m\n\u001b[0m\u001b[0;32m   3957\u001b[0m \u001b[1;33m\u001b[0m\u001b[0m\n\u001b[0;32m   3958\u001b[0m     \u001b[1;31m# ----------------------------------------------------------------------\u001b[0m\u001b[1;33m\u001b[0m\u001b[1;33m\u001b[0m\u001b[0m\n",
            "\u001b[1;32mc:\\Users\\User\\anaconda3\\lib\\site-packages\\pandas\\core\\internals\\managers.py\u001b[0m in \u001b[0;36miset\u001b[1;34m(self, loc, value, inplace)\u001b[0m\n\u001b[0;32m   1130\u001b[0m \u001b[1;33m\u001b[0m\u001b[0m\n\u001b[0;32m   1131\u001b[0m         \u001b[1;31m# Accessing public blknos ensures the public versions are initialized\u001b[0m\u001b[1;33m\u001b[0m\u001b[1;33m\u001b[0m\u001b[0m\n\u001b[1;32m-> 1132\u001b[1;33m         \u001b[0mblknos\u001b[0m \u001b[1;33m=\u001b[0m \u001b[0mself\u001b[0m\u001b[1;33m.\u001b[0m\u001b[0mblknos\u001b[0m\u001b[1;33m[\u001b[0m\u001b[0mloc\u001b[0m\u001b[1;33m]\u001b[0m\u001b[1;33m\u001b[0m\u001b[1;33m\u001b[0m\u001b[0m\n\u001b[0m\u001b[0;32m   1133\u001b[0m         \u001b[0mblklocs\u001b[0m \u001b[1;33m=\u001b[0m \u001b[0mself\u001b[0m\u001b[1;33m.\u001b[0m\u001b[0mblklocs\u001b[0m\u001b[1;33m[\u001b[0m\u001b[0mloc\u001b[0m\u001b[1;33m]\u001b[0m\u001b[1;33m.\u001b[0m\u001b[0mcopy\u001b[0m\u001b[1;33m(\u001b[0m\u001b[1;33m)\u001b[0m\u001b[1;33m\u001b[0m\u001b[1;33m\u001b[0m\u001b[0m\n\u001b[0;32m   1134\u001b[0m \u001b[1;33m\u001b[0m\u001b[0m\n",
            "\u001b[1;31mKeyboardInterrupt\u001b[0m: "
          ]
        }
      ],
      "source": [
        "#get if location in not sa make none\n",
        "locations = [\"pietermaritzburg\", \"sa\", \"southafrica\",\"capetown\" \"durban\", \"johannesburg\", \"capetown\", \"pretoria\", \"bloemfontein\", \"port elizabeth\", \"polokwane\", \"nelspruit\", \"kimberley\", \"upington\", \"george\", \"mossel bay\", \"klerksdorp\", \"potchefstroom\", \"randburg\", \"sandton\", \"benoni\", \"boksburg\", \"brakpan\", \"centurion\", \"germiston\", \"kempton park\", \"midrand\", \"tembisa\", \"vanderbijlpark\", \"vereeniging\", \"alberton\", \"bryanston\", \"carletonville\", \"durban north\", \"edenvale\", \"fourways\", \"kagiso\", \"kwa-thema\", \"lenasia\", \"midvaal\", \"mpumalanga\", \"nigel\", \"randfontein\", \"roodepoort\", \"soweto\", \"springs\",]\n",
        "\n",
        "res = ''\n",
        "\n",
        "def check_location(location):\n",
        "    for loc in locations:\n",
        "        #print(loc)\n",
        "        if loc in location:\n",
        "            return location\n",
        "    return None\n",
        "\n",
        "\n",
        "\n",
        "for index, value in enumerate(df2[\"Location\"]):\n",
        "    real = value\n",
        "    value = value.lower().replace(\" \", \"\").split(\",\")\n",
        "    #print(value)\n",
        "    for i in value:\n",
        "        if i in locations:\n",
        "            df2[\"Location\"][index] = real\n",
        "            break\n",
        "        else:\n",
        "            df2[\"Location\"][index] = None\n"
      ]
    },
    {
      "cell_type": "code",
      "execution_count": null,
      "metadata": {
        "id": "SLoNoZt3xzwy"
      },
      "outputs": [],
      "source": [
        "import string"
      ]
    },
    {
      "cell_type": "code",
      "execution_count": null,
      "metadata": {
        "id": "U3MWY8KiyTaK"
      },
      "outputs": [],
      "source": [
        "def remove_punctuations(text):\n",
        "  Test_punc_removed = [char for char in text if char not in string.punctuation]\n",
        "  Test_punc_removed_join = ''.join(Test_punc_removed)\n",
        "  return Test_punc_removed_join"
      ]
    },
    {
      "cell_type": "code",
      "execution_count": null,
      "metadata": {
        "id": "Lxr7rINSzpW5"
      },
      "outputs": [
        {
          "name": "stderr",
          "output_type": "stream",
          "text": [
            "C:\\Users\\User\\AppData\\Local\\Temp\\ipykernel_13428\\2859831822.py:1: SettingWithCopyWarning: \n",
            "A value is trying to be set on a copy of a slice from a DataFrame.\n",
            "Try using .loc[row_indexer,col_indexer] = value instead\n",
            "\n",
            "See the caveats in the documentation: https://pandas.pydata.org/pandas-docs/stable/user_guide/indexing.html#returning-a-view-versus-a-copy\n",
            "  df2['Text'] = df2['Text'].apply(remove_punctuations)\n"
          ]
        }
      ],
      "source": [
        "df2['Text'] = df2['Text'].apply(remove_punctuations)"
      ]
    },
    {
      "cell_type": "code",
      "execution_count": null,
      "metadata": {
        "id": "fTgbUq212hxA"
      },
      "outputs": [
        {
          "name": "stderr",
          "output_type": "stream",
          "text": [
            "[nltk_data] Downloading package stopwords to\n",
            "[nltk_data]     C:\\Users\\User\\AppData\\Roaming\\nltk_data...\n",
            "[nltk_data]   Package stopwords is already up-to-date!\n",
            "C:\\Users\\User\\AppData\\Local\\Temp\\ipykernel_13428\\1805931994.py:14: SettingWithCopyWarning: \n",
            "A value is trying to be set on a copy of a slice from a DataFrame.\n",
            "Try using .loc[row_indexer,col_indexer] = value instead\n",
            "\n",
            "See the caveats in the documentation: https://pandas.pydata.org/pandas-docs/stable/user_guide/indexing.html#returning-a-view-versus-a-copy\n",
            "  df2['Text'] = df2['Text'].apply(lambda x: ' '.join([word for word in x.split() if word not in (stop_words)]) if type(x) is str else None)\n"
          ]
        }
      ],
      "source": [
        "import nltk\n",
        "from nltk.corpus import stopwords\n",
        "from nltk.tokenize import word_tokenize\n",
        "from nltk.stem import PorterStemmer\n",
        "nltk.download('stopwords')\n",
        "\n",
        "#remove stopwords\n",
        "stop_words = set(stopwords.words('english'))\n",
        "\n",
        "#add some words to stopwords\n",
        "stop_words.update(['.', ',', '\"', \"'\", '?', '!', ':', ';', '(', ')', '[', ']', '{', '}','``','--','...',\n",
        "                    '’','“','”','’','‘', 'thought', 'south africa', \"southafrica\",\n",
        "                    \"amp\", \"factory\", \"new\", \"rsa\",\"day\",\"way\", \"sa\"])\n",
        "df2['Text'] = df2['Text'].apply(lambda x: ' '.join([word for word in x.split() if word not in (stop_words)]) if type(x) is str else None)"
      ]
    },
    {
      "cell_type": "code",
      "execution_count": null,
      "metadata": {
        "id": "eK8T8QCBLstT"
      },
      "outputs": [
        {
          "name": "stderr",
          "output_type": "stream",
          "text": [
            "C:\\Users\\User\\AppData\\Local\\Temp\\ipykernel_13428\\1761232742.py:1: SettingWithCopyWarning: \n",
            "A value is trying to be set on a copy of a slice from a DataFrame\n",
            "\n",
            "See the caveats in the documentation: https://pandas.pydata.org/pandas-docs/stable/user_guide/indexing.html#returning-a-view-versus-a-copy\n",
            "  df2.dropna(inplace=True)\n"
          ]
        }
      ],
      "source": [
        "df2.dropna(inplace=True)"
      ]
    },
    {
      "cell_type": "code",
      "execution_count": null,
      "metadata": {
        "id": "zNJ-eI185E9c"
      },
      "outputs": [],
      "source": [
        "df2.reset_index(drop=True, inplace=True)"
      ]
    },
    {
      "cell_type": "code",
      "execution_count": null,
      "metadata": {
        "id": "3FTcywf8BRZL"
      },
      "outputs": [
        {
          "data": {
            "text/html": [
              "<div>\n",
              "<style scoped>\n",
              "    .dataframe tbody tr th:only-of-type {\n",
              "        vertical-align: middle;\n",
              "    }\n",
              "\n",
              "    .dataframe tbody tr th {\n",
              "        vertical-align: top;\n",
              "    }\n",
              "\n",
              "    .dataframe thead th {\n",
              "        text-align: right;\n",
              "    }\n",
              "</style>\n",
              "<table border=\"1\" class=\"dataframe\">\n",
              "  <thead>\n",
              "    <tr style=\"text-align: right;\">\n",
              "      <th></th>\n",
              "      <th>Text</th>\n",
              "      <th>Datetime</th>\n",
              "      <th>Location</th>\n",
              "      <th>Hashtags</th>\n",
              "    </tr>\n",
              "  </thead>\n",
              "  <tbody>\n",
              "    <tr>\n",
              "      <th>0</th>\n",
              "      <td>thiefinchief zuma corruption leadership 0</td>\n",
              "      <td>17:12:31 22:55:07</td>\n",
              "      <td>Cape Town, South Africa</td>\n",
              "      <td>['RSA', 'Zuma', 'corruption', 'ANC', 'leadersh...</td>\n",
              "    </tr>\n",
              "    <tr>\n",
              "      <th>1</th>\n",
              "      <td>thiefinchief zuma corruption leadership 20</td>\n",
              "      <td>17:12:31 18:40:04</td>\n",
              "      <td>Cape Town, South Africa</td>\n",
              "      <td>['RSA', 'Zuma', 'corruption', 'ANC', 'leadersh...</td>\n",
              "    </tr>\n",
              "    <tr>\n",
              "      <th>2</th>\n",
              "      <td>thiefinchief zuma corruption leadership 17</td>\n",
              "      <td>17:12:31 15:35:04</td>\n",
              "      <td>Cape Town, South Africa</td>\n",
              "      <td>['RSA', 'Zuma', 'corruption', 'ANC', 'leadersh...</td>\n",
              "    </tr>\n",
              "    <tr>\n",
              "      <th>3</th>\n",
              "      <td>helloworld meet next politician levels bribery...</td>\n",
              "      <td>17:12:31 12:45:58</td>\n",
              "      <td>Roodepoort, South Africa</td>\n",
              "      <td>['HelloWorld', 'politician', 'bribery', 'corru...</td>\n",
              "    </tr>\n",
              "    <tr>\n",
              "      <th>4</th>\n",
              "      <td>thiefinchief zuma corruption leadership 10</td>\n",
              "      <td>17:12:31 08:10:04</td>\n",
              "      <td>Cape Town, South Africa</td>\n",
              "      <td>['RSA', 'Zuma', 'corruption', 'ANC', 'leadersh...</td>\n",
              "    </tr>\n",
              "    <tr>\n",
              "      <th>...</th>\n",
              "      <td>...</td>\n",
              "      <td>...</td>\n",
              "      <td>...</td>\n",
              "      <td>...</td>\n",
              "    </tr>\n",
              "    <tr>\n",
              "      <th>28248</th>\n",
              "      <td>sacp shouldnt speak</td>\n",
              "      <td>17:07:01 12:53:25</td>\n",
              "      <td>Johannesburg, SA</td>\n",
              "      <td>['ANC']</td>\n",
              "    </tr>\n",
              "    <tr>\n",
              "      <th>28249</th>\n",
              "      <td>freefall tipping point turning point leadershi...</td>\n",
              "      <td>17:07:01 12:45:09</td>\n",
              "      <td>Cape Town,  South Africa</td>\n",
              "      <td>['ANC', 'SouthAfrica', 'leadership']</td>\n",
              "    </tr>\n",
              "    <tr>\n",
              "      <th>28250</th>\n",
              "      <td>dont want destroyed weaknesses weve identified...</td>\n",
              "      <td>17:07:01 12:45:04</td>\n",
              "      <td>Polokwane, South Africa</td>\n",
              "      <td>['ANC', 'ANCNPC']</td>\n",
              "    </tr>\n",
              "    <tr>\n",
              "      <th>28251</th>\n",
              "      <td>dont want destroyed weaknesses weve identified...</td>\n",
              "      <td>17:07:01 12:40:14</td>\n",
              "      <td>South Africa</td>\n",
              "      <td>['ANC', 'ANCNPC']</td>\n",
              "    </tr>\n",
              "    <tr>\n",
              "      <th>28252</th>\n",
              "      <td>quite simple uncle gwede corrupt starting butt...</td>\n",
              "      <td>17:07:01 12:35:35</td>\n",
              "      <td>Cape Town, South Africa</td>\n",
              "      <td>['butternut', 'ANC']</td>\n",
              "    </tr>\n",
              "  </tbody>\n",
              "</table>\n",
              "<p>28253 rows × 4 columns</p>\n",
              "</div>"
            ],
            "text/plain": [
              "                                                    Text           Datetime  \\\n",
              "0              thiefinchief zuma corruption leadership 0  17:12:31 22:55:07   \n",
              "1             thiefinchief zuma corruption leadership 20  17:12:31 18:40:04   \n",
              "2             thiefinchief zuma corruption leadership 17  17:12:31 15:35:04   \n",
              "3      helloworld meet next politician levels bribery...  17:12:31 12:45:58   \n",
              "4             thiefinchief zuma corruption leadership 10  17:12:31 08:10:04   \n",
              "...                                                  ...                ...   \n",
              "28248                                sacp shouldnt speak  17:07:01 12:53:25   \n",
              "28249  freefall tipping point turning point leadershi...  17:07:01 12:45:09   \n",
              "28250  dont want destroyed weaknesses weve identified...  17:07:01 12:45:04   \n",
              "28251  dont want destroyed weaknesses weve identified...  17:07:01 12:40:14   \n",
              "28252  quite simple uncle gwede corrupt starting butt...  17:07:01 12:35:35   \n",
              "\n",
              "                       Location  \\\n",
              "0       Cape Town, South Africa   \n",
              "1       Cape Town, South Africa   \n",
              "2       Cape Town, South Africa   \n",
              "3      Roodepoort, South Africa   \n",
              "4       Cape Town, South Africa   \n",
              "...                         ...   \n",
              "28248          Johannesburg, SA   \n",
              "28249  Cape Town,  South Africa   \n",
              "28250   Polokwane, South Africa   \n",
              "28251              South Africa   \n",
              "28252   Cape Town, South Africa   \n",
              "\n",
              "                                                Hashtags  \n",
              "0      ['RSA', 'Zuma', 'corruption', 'ANC', 'leadersh...  \n",
              "1      ['RSA', 'Zuma', 'corruption', 'ANC', 'leadersh...  \n",
              "2      ['RSA', 'Zuma', 'corruption', 'ANC', 'leadersh...  \n",
              "3      ['HelloWorld', 'politician', 'bribery', 'corru...  \n",
              "4      ['RSA', 'Zuma', 'corruption', 'ANC', 'leadersh...  \n",
              "...                                                  ...  \n",
              "28248                                            ['ANC']  \n",
              "28249               ['ANC', 'SouthAfrica', 'leadership']  \n",
              "28250                                  ['ANC', 'ANCNPC']  \n",
              "28251                                  ['ANC', 'ANCNPC']  \n",
              "28252                               ['butternut', 'ANC']  \n",
              "\n",
              "[28253 rows x 4 columns]"
            ]
          },
          "execution_count": 13,
          "metadata": {},
          "output_type": "execute_result"
        }
      ],
      "source": [
        "df2"
      ]
    },
    {
      "cell_type": "code",
      "execution_count": null,
      "metadata": {
        "id": "pAMpCrdFX4bH"
      },
      "outputs": [
        {
          "name": "stderr",
          "output_type": "stream",
          "text": [
            "C:\\Users\\User\\AppData\\Local\\Temp\\ipykernel_13428\\2560794429.py:8: SettingWithCopyWarning: \n",
            "A value is trying to be set on a copy of a slice from a DataFrame.\n",
            "Try using .loc[row_indexer,col_indexer] = value instead\n",
            "\n",
            "See the caveats in the documentation: https://pandas.pydata.org/pandas-docs/stable/user_guide/indexing.html#returning-a-view-versus-a-copy\n",
            "  df2['Text'] = df2['Text'].apply(check_voting)\n"
          ]
        }
      ],
      "source": [
        "#check if voting is mentioned\n",
        "def check_voting(text):\n",
        "    if \"voting\" in text or \"vote\" in text or \"voted\" in text or \"election\" in text:\n",
        "        return text\n",
        "    else:\n",
        "        return None\n",
        "\n",
        "df2['Text'] = df2['Text'].apply(check_voting)"
      ]
    },
    {
      "cell_type": "code",
      "execution_count": null,
      "metadata": {
        "id": "wR7HskIiURNe"
      },
      "outputs": [
        {
          "name": "stderr",
          "output_type": "stream",
          "text": [
            "C:\\Users\\User\\AppData\\Local\\Temp\\ipykernel_13428\\1315181870.py:1: SettingWithCopyWarning: \n",
            "A value is trying to be set on a copy of a slice from a DataFrame\n",
            "\n",
            "See the caveats in the documentation: https://pandas.pydata.org/pandas-docs/stable/user_guide/indexing.html#returning-a-view-versus-a-copy\n",
            "  df2.dropna(inplace=True)\n"
          ]
        }
      ],
      "source": [
        "df2.dropna(inplace=True)\n",
        "df2.reset_index(drop=True, inplace=True)"
      ]
    },
    {
      "cell_type": "code",
      "execution_count": null,
      "metadata": {},
      "outputs": [
        {
          "data": {
            "text/html": [
              "<div>\n",
              "<style scoped>\n",
              "    .dataframe tbody tr th:only-of-type {\n",
              "        vertical-align: middle;\n",
              "    }\n",
              "\n",
              "    .dataframe tbody tr th {\n",
              "        vertical-align: top;\n",
              "    }\n",
              "\n",
              "    .dataframe thead th {\n",
              "        text-align: right;\n",
              "    }\n",
              "</style>\n",
              "<table border=\"1\" class=\"dataframe\">\n",
              "  <thead>\n",
              "    <tr style=\"text-align: right;\">\n",
              "      <th></th>\n",
              "      <th>Text</th>\n",
              "      <th>Datetime</th>\n",
              "      <th>Location</th>\n",
              "      <th>Hashtags</th>\n",
              "    </tr>\n",
              "  </thead>\n",
              "  <tbody>\n",
              "    <tr>\n",
              "      <th>0</th>\n",
              "      <td>carl niehaus radical economic corruption anc54...</td>\n",
              "      <td>17:12:23 19:07:34</td>\n",
              "      <td>Cape Town, South Africa</td>\n",
              "      <td>['ANC54', 'CORRUPTION']</td>\n",
              "    </tr>\n",
              "    <tr>\n",
              "      <th>1</th>\n",
              "      <td>anc54 make simple ruling missing 68 votes issu...</td>\n",
              "      <td>17:12:20 16:40:39</td>\n",
              "      <td>Cape Town</td>\n",
              "      <td>['ANC', 'ANC54', 'ANC', 'Corruption']</td>\n",
              "    </tr>\n",
              "    <tr>\n",
              "      <th>2</th>\n",
              "      <td>note quickly mobilizes 68 missing votes still ...</td>\n",
              "      <td>17:12:19 08:35:23</td>\n",
              "      <td>Johannesburg</td>\n",
              "      <td>['ANC54', 'Corruption']</td>\n",
              "    </tr>\n",
              "    <tr>\n",
              "      <th>3</th>\n",
              "      <td>white votebuying ok corruption clear racist st...</td>\n",
              "      <td>17:12:18 22:29:49</td>\n",
              "      <td>South Africa</td>\n",
              "      <td>['White', 'VoteBuying', 'Corruption', 'Racist'...</td>\n",
              "    </tr>\n",
              "    <tr>\n",
              "      <th>4</th>\n",
              "      <td>nototribalism corruption vote ramaphosa cr17 c...</td>\n",
              "      <td>17:12:18 07:25:20</td>\n",
              "      <td>Johannesburg, South Africa</td>\n",
              "      <td>['NoToTribalism', 'corruption', 'CR17', 'CR']</td>\n",
              "    </tr>\n",
              "    <tr>\n",
              "      <th>...</th>\n",
              "      <td>...</td>\n",
              "      <td>...</td>\n",
              "      <td>...</td>\n",
              "      <td>...</td>\n",
              "    </tr>\n",
              "    <tr>\n",
              "      <th>2085</th>\n",
              "      <td>jeez youth womens league r 10th 11th provinces...</td>\n",
              "      <td>17:07:02 11:12:09</td>\n",
              "      <td>South Africa</td>\n",
              "      <td>['ANC']</td>\n",
              "    </tr>\n",
              "    <tr>\n",
              "      <th>2086</th>\n",
              "      <td>ancnpc oh pathetic say tolerate corruption yet...</td>\n",
              "      <td>17:07:02 10:55:08</td>\n",
              "      <td>Johannesburg</td>\n",
              "      <td>['ancnpc', 'ANC']</td>\n",
              "    </tr>\n",
              "    <tr>\n",
              "      <th>2087</th>\n",
              "      <td>nec member fikile mbalula saying disciplinary ...</td>\n",
              "      <td>17:07:02 10:53:45</td>\n",
              "      <td>Johannesburg, South Africa</td>\n",
              "      <td>['ANC']</td>\n",
              "    </tr>\n",
              "    <tr>\n",
              "      <th>2088</th>\n",
              "      <td>retweeted african times ancnpc mantashe says l...</td>\n",
              "      <td>17:07:02 05:19:37</td>\n",
              "      <td>South Africa</td>\n",
              "      <td>['ANCNPC', 'ANC']</td>\n",
              "    </tr>\n",
              "    <tr>\n",
              "      <th>2089</th>\n",
              "      <td>deeply ironic would viewed voting opposition r...</td>\n",
              "      <td>17:07:01 17:25:45</td>\n",
              "      <td>Cape Town</td>\n",
              "      <td>['ANC', 'NoConfidenceMotion', 'ANCNPC']</td>\n",
              "    </tr>\n",
              "  </tbody>\n",
              "</table>\n",
              "<p>2090 rows × 4 columns</p>\n",
              "</div>"
            ],
            "text/plain": [
              "                                                   Text           Datetime  \\\n",
              "0     carl niehaus radical economic corruption anc54...  17:12:23 19:07:34   \n",
              "1     anc54 make simple ruling missing 68 votes issu...  17:12:20 16:40:39   \n",
              "2     note quickly mobilizes 68 missing votes still ...  17:12:19 08:35:23   \n",
              "3     white votebuying ok corruption clear racist st...  17:12:18 22:29:49   \n",
              "4     nototribalism corruption vote ramaphosa cr17 c...  17:12:18 07:25:20   \n",
              "...                                                 ...                ...   \n",
              "2085  jeez youth womens league r 10th 11th provinces...  17:07:02 11:12:09   \n",
              "2086  ancnpc oh pathetic say tolerate corruption yet...  17:07:02 10:55:08   \n",
              "2087  nec member fikile mbalula saying disciplinary ...  17:07:02 10:53:45   \n",
              "2088  retweeted african times ancnpc mantashe says l...  17:07:02 05:19:37   \n",
              "2089  deeply ironic would viewed voting opposition r...  17:07:01 17:25:45   \n",
              "\n",
              "                        Location  \\\n",
              "0        Cape Town, South Africa   \n",
              "1                      Cape Town   \n",
              "2                   Johannesburg   \n",
              "3                   South Africa   \n",
              "4     Johannesburg, South Africa   \n",
              "...                          ...   \n",
              "2085                South Africa   \n",
              "2086                Johannesburg   \n",
              "2087  Johannesburg, South Africa   \n",
              "2088                South Africa   \n",
              "2089                   Cape Town   \n",
              "\n",
              "                                               Hashtags  \n",
              "0                               ['ANC54', 'CORRUPTION']  \n",
              "1                 ['ANC', 'ANC54', 'ANC', 'Corruption']  \n",
              "2                               ['ANC54', 'Corruption']  \n",
              "3     ['White', 'VoteBuying', 'Corruption', 'Racist'...  \n",
              "4         ['NoToTribalism', 'corruption', 'CR17', 'CR']  \n",
              "...                                                 ...  \n",
              "2085                                            ['ANC']  \n",
              "2086                                  ['ancnpc', 'ANC']  \n",
              "2087                                            ['ANC']  \n",
              "2088                                  ['ANCNPC', 'ANC']  \n",
              "2089            ['ANC', 'NoConfidenceMotion', 'ANCNPC']  \n",
              "\n",
              "[2090 rows x 4 columns]"
            ]
          },
          "execution_count": 28,
          "metadata": {},
          "output_type": "execute_result"
        }
      ],
      "source": [
        "df2"
      ]
    },
    {
      "cell_type": "code",
      "execution_count": null,
      "metadata": {},
      "outputs": [
        {
          "data": {
            "text/plain": [
              "'growing corruption direction result power far long without break want even corruption vote 2019'"
            ]
          },
          "execution_count": 30,
          "metadata": {},
          "output_type": "execute_result"
        }
      ],
      "source": [
        "df2.to_csv(r\"C:\\datathon\\dataset on twit corruption\\clean\\2017data235636.csv\", index=False)"
      ]
    },
    {
      "cell_type": "code",
      "execution_count": null,
      "metadata": {},
      "outputs": [],
      "source": []
    }
  ],
  "metadata": {
    "colab": {
      "provenance": []
    },
    "kernelspec": {
      "display_name": "Python 3.9.13 ('base')",
      "language": "python",
      "name": "python3"
    },
    "language_info": {
      "codemirror_mode": {
        "name": "ipython",
        "version": 3
      },
      "file_extension": ".py",
      "mimetype": "text/x-python",
      "name": "python",
      "nbconvert_exporter": "python",
      "pygments_lexer": "ipython3",
      "version": "3.9.13"
    },
    "vscode": {
      "interpreter": {
        "hash": "f08154012ddadd8e950e6e9e035c7a7b32c136e7647e9b7c77e02eb723a8bedb"
      }
    }
  },
  "nbformat": 4,
  "nbformat_minor": 0
}
